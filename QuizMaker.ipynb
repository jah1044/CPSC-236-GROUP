import random, time, re

# Function to validate student ID format (A followed by 5 digits 1-9, no leading zero)
def validate_id(student_id):
    return bool(re.match(r'^A[1-9][0-9]{4}$', student_id))

# Function to load and shuffle questions from a test bank file
def load_questions(filename, num_questions=10):
    with open(filename, 'r', encoding='utf-8') as file:
        questions = []
        for line in file:
            parts = line.strip().rsplit('|', 1)  # Split only at the last '|'
            if len(parts) == 2:
                question_text, correct_answer = parts
                questions.append((question_text, correct_answer))
    random.shuffle(questions)
    return questions[:num_questions]

# Function to save quiz results in a file
def save_results(student_id, first_name, last_name, score, elapsed_time, answers):
    filename = f"{student_id}_{first_name}_{last_name}.txt"
    with open(filename, 'w', encoding='utf-8') as file:
        file.write(f"ID: {student_id}\nName: {first_name} {last_name}\nScore: {score}\nTime: {elapsed_time:.2f}s\n\n")
        for q, c, u in answers:
            file.write(f"Q: {q}\nCorrect: {c}\nYour Answer: {u}\n\n")

# Function to conduct the quiz
def start_quiz(student_id, first_name, last_name):
    num_questions = 10  # Set default number of questions
    questions = load_questions("testbank.txt", num_questions)
    
    score, start_time, answers = 0, time.time(), []
    for i, (question_text, correct_answer) in enumerate(questions, 1):
        parts = question_text.split('|')  # Split question and choices
        print(f"Q{i}: {parts[0]}")  # Print the question text
        for choice in parts[1:]:  # Print answer choices
            print(choice)

        while (user_answer := input("Your answer: ").strip().upper()) not in ['A', 'B', 'C', 'D']:
            print("Invalid input, enter A, B, C, or D.")

        answers.append((parts[0], correct_answer, user_answer))  # Store (question, correct, user answer)
        if user_answer == correct_answer:
            score += 1  # Each correct answer earns 1 point

    elapsed_time = time.time() - start_time
    save_results(student_id, first_name, last_name, score, elapsed_time, answers)
    print(f"Quiz Complete! Score: {score}/{num_questions}")

# Main function to handle user input and start the quiz
def main():
    first_name, last_name = input("First name: "), input("Last name: ")
    
    for _ in range(3):  # Allow 3 attempts for a valid ID
        student_id = input("Enter ID (A12345): ").strip()
        if validate_id(student_id):
            break
        print("Invalid ID format. Try again.")
    else:
        return print("Too many failed attempts. Exiting.")

    start_quiz(student_id, first_name, last_name)

    if input("Q to quit, S to restart: ").strip().upper() == 'S':
        main()

# Run the program
if __name__ == "__main__":
    main()

