{
 "cells": [
  {
   "cell_type": "code",
   "execution_count": null,
   "id": "674ce174-dc8a-4e73-b0c6-57d95ac84202",
   "metadata": {},
   "outputs": [],
   "source": [
    "\n",
    "\n"
   ]
  },
  {
   "cell_type": "code",
   "execution_count": null,
   "id": "d27b62f2-688f-4159-a2db-66209b444000",
   "metadata": {},
   "outputs": [
    {
     "name": "stdin",
     "output_type": "stream",
     "text": [
      "First name:  joey\n",
      "Last name:  Hudak\n",
      "Enter ID (A12345):  A02345\n"
     ]
    },
    {
     "name": "stdout",
     "output_type": "stream",
     "text": [
      "Invalid ID format. Try again.\n"
     ]
    },
    {
     "name": "stdin",
     "output_type": "stream",
     "text": [
      "Enter ID (A12345):  A12345\n"
     ]
    },
    {
     "name": "stdout",
     "output_type": "stream",
     "text": [
      "Q1: What gas do plants absorb from the atmosphere?\n",
      "A) Oxygen\n",
      "B) Carbon dioxide\n",
      "C) Nitrogen\n",
      "D) Hydrogen\n"
     ]
    },
    {
     "name": "stdin",
     "output_type": "stream",
     "text": [
      "Your answer:  B\n"
     ]
    },
    {
     "name": "stdout",
     "output_type": "stream",
     "text": [
      "Q2: What is the smallest prime number?\n",
      "A) 0\n",
      "B) 1\n",
      "C) 2\n",
      "D) 3\n"
     ]
    },
    {
     "name": "stdin",
     "output_type": "stream",
     "text": [
      "Your answer:  C\n"
     ]
    },
    {
     "name": "stdout",
     "output_type": "stream",
     "text": [
      "Q3: Which animal is known as the \"King of the Jungle\"?\n",
      "A) Elephant\n",
      "B) Tiger\n",
      "C) Lion\n",
      "D) Bear\n"
     ]
    },
    {
     "name": "stdin",
     "output_type": "stream",
     "text": [
      "Your answer:  C\n"
     ]
    },
    {
     "name": "stdout",
     "output_type": "stream",
     "text": [
      "Q4: Who painted the Mona Lisa?\n",
      "A) Vincent van Gogh \n",
      "B) Leonardo da Vinci \n",
      "C) Pablo Picasso \n",
      "D) Michelangelo\n"
     ]
    },
    {
     "name": "stdin",
     "output_type": "stream",
     "text": [
      "Your answer:  B\n"
     ]
    },
    {
     "name": "stdout",
     "output_type": "stream",
     "text": [
      "Q5: Who discovered gravity?\n",
      "A) Isaac Newton\n",
      "B) Albert Einstein\n",
      "C) Galileo Galilei\n",
      "D) Nikola Tesla\n"
     ]
    },
    {
     "name": "stdin",
     "output_type": "stream",
     "text": [
      "Your answer:  A\n"
     ]
    },
    {
     "name": "stdout",
     "output_type": "stream",
     "text": [
      "Q6: What is the hardest natural substance on Earth?\n",
      "A) Gold\n",
      "B) Iron\n",
      "C) Quartz\n",
      "D) Diamond\n"
     ]
    },
    {
     "name": "stdin",
     "output_type": "stream",
     "text": [
      "Your answer:  D\n"
     ]
    },
    {
     "name": "stdout",
     "output_type": "stream",
     "text": [
      "Q7: What is the boiling point of water in Celsius?\n",
      "A) 90°C\n",
      "B) 100°C\n",
      "C) 110°C\n",
      "D) 120°C\n"
     ]
    },
    {
     "name": "stdin",
     "output_type": "stream",
     "text": [
      "Your answer:  B\n"
     ]
    },
    {
     "name": "stdout",
     "output_type": "stream",
     "text": [
      "Q8: Which element has the atomic number 1?\n",
      "A) Hydrogen\n",
      "B) Oxygen\n",
      "C) Helium\n",
      "D) Nitrogen\n"
     ]
    }
   ],
   "source": [
    "import random, time, re\n",
    "\n",
    "# Function to validate student ID format (A followed by 5 digits 1-9, no leading zero)\n",
    "def validate_id(student_id):\n",
    "    return bool(re.match(r'^A[1-9][0-9]{4}$', student_id))\n",
    "\n",
    "# Function to load and shuffle questions from a test bank file\n",
    "def load_questions(filename, num_questions=10):\n",
    "    with open(filename, 'r', encoding='utf-8') as file:\n",
    "        questions = []\n",
    "        for line in file:\n",
    "            parts = line.strip().rsplit('|', 1)  # Split only at the last '|'\n",
    "            if len(parts) == 2:\n",
    "                question_text, correct_answer = parts\n",
    "                questions.append((question_text, correct_answer))\n",
    "    random.shuffle(questions)\n",
    "    return questions[:num_questions]\n",
    "\n",
    "# Function to save quiz results in a file\n",
    "def save_results(student_id, first_name, last_name, score, elapsed_time, answers):\n",
    "    filename = f\"{student_id}_{first_name}_{last_name}.txt\"\n",
    "    with open(filename, 'w', encoding='utf-8') as file:\n",
    "        file.write(f\"ID: {student_id}\\nName: {first_name} {last_name}\\nScore: {score}\\nTime: {elapsed_time:.2f}s\\n\\n\")\n",
    "        for q, c, u in answers:\n",
    "            file.write(f\"Q: {q}\\nCorrect: {c}\\nYour Answer: {u}\\n\\n\")\n",
    "\n",
    "# Function to conduct the quiz\n",
    "def start_quiz(student_id, first_name, last_name):\n",
    "    num_questions = 10  # Set default number of questions\n",
    "    questions = load_questions(\"testbank.txt\", num_questions)\n",
    "    \n",
    "    score, start_time, answers = 0, time.time(), []\n",
    "    for i, (question_text, correct_answer) in enumerate(questions, 1):\n",
    "        parts = question_text.split('|')  # Split question and choices\n",
    "        print(f\"Q{i}: {parts[0]}\")  # Print the question text\n",
    "        for choice in parts[1:]:  # Print answer choices\n",
    "            print(choice)\n",
    "\n",
    "        while (user_answer := input(\"Your answer: \").strip().upper()) not in ['A', 'B', 'C', 'D']:\n",
    "            print(\"Invalid input, enter A, B, C, or D.\")\n",
    "\n",
    "        answers.append((parts[0], correct_answer, user_answer))  # Store (question, correct, user answer)\n",
    "        if user_answer == correct_answer:\n",
    "            score += 1  # Each correct answer earns 1 point\n",
    "\n",
    "    elapsed_time = time.time() - start_time\n",
    "    save_results(student_id, first_name, last_name, score, elapsed_time, answers)\n",
    "    print(f\"Quiz Complete! Score: {score}/{num_questions}\")\n",
    "\n",
    "# Main function to handle user input and start the quiz\n",
    "def main():\n",
    "    first_name, last_name = input(\"First name: \"), input(\"Last name: \")\n",
    "    \n",
    "    for _ in range(3):  # Allow 3 attempts for a valid ID\n",
    "        student_id = input(\"Enter ID (A12345): \").strip()\n",
    "        if validate_id(student_id):\n",
    "            break\n",
    "        print(\"Invalid ID format. Try again.\")\n",
    "    else:\n",
    "        return print(\"Too many failed attempts. Exiting.\")\n",
    "\n",
    "    start_quiz(student_id, first_name, last_name)\n",
    "\n",
    "    if input(\"Q to quit, S to restart: \").strip().upper() == 'S':\n",
    "        main()\n",
    "\n",
    "# Run the program\n",
    "if __name__ == \"__main__\":\n",
    "    main()\n"
   ]
  },
  {
   "cell_type": "code",
   "execution_count": null,
   "id": "10fc060f-f207-4e99-95e1-c4ba61784264",
   "metadata": {},
   "outputs": [],
   "source": []
  }
 ],
 "metadata": {
  "kernelspec": {
   "display_name": "Python 3 (ipykernel)",
   "language": "python",
   "name": "python3"
  },
  "language_info": {
   "codemirror_mode": {
    "name": "ipython",
    "version": 3
   },
   "file_extension": ".py",
   "mimetype": "text/x-python",
   "name": "python",
   "nbconvert_exporter": "python",
   "pygments_lexer": "ipython3",
   "version": "3.12.4"
  }
 },
 "nbformat": 4,
 "nbformat_minor": 5
}
